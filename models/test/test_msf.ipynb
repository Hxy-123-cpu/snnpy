{
 "cells": [
  {
   "cell_type": "code",
   "execution_count": 1,
   "metadata": {},
   "outputs": [],
   "source": [
    "import os\n",
    "import sys\n",
    "sys.path.append(r\"../\")\n",
    "import numpy as np\n",
    "import matplotlib.pyplot as plt\n",
    "from utils.msf import ContinuousDS, msf_LCE, msf_mLCE\n",
    "# from msf import ContinuousDS, msf_LCE, msf_mLCE"
   ]
  },
  {
   "cell_type": "code",
   "execution_count": 2,
   "metadata": {},
   "outputs": [],
   "source": [
    "# 连续动力系统的定义，此处为 Lorenz63\n",
    "sigma = 10.\n",
    "rho = 28.\n",
    "beta = 2\n",
    "x0 = np.array([1.5, -1.5, 20.])\n",
    "t0 = 0.\n",
    "dt = 1e-2\n",
    "T_init = int(5e4)\n",
    "T_cal = int(1e6)"
   ]
  },
  {
   "cell_type": "code",
   "execution_count": 3,
   "metadata": {},
   "outputs": [],
   "source": [
    "gamma = 1.368\n",
    "def f(x, t):\n",
    "    res = np.zeros_like(x)\n",
    "    res[0] = sigma * (x[1] - x[0])\n",
    "    res[1] = x[0] * (rho - x[2]) - x[1]\n",
    "    res[2] = x[0] * x[1] - beta * x[2]\n",
    "    return res\n",
    "\n",
    "def jac(x, t):\n",
    "    def Df(x, t):\n",
    "        res = np.zeros((x.shape[0], x.shape[0]))\n",
    "        res[0, 0], res[0, 1] = -sigma, sigma\n",
    "        res[1, 0], res[1, 1], res[1, 2] = rho - x[2], -1., -x[0]\n",
    "        res[2, 0], res[2, 1], res[2, 2] = x[1], x[0], -beta\n",
    "        return res\n",
    "    def DH(x, t):\n",
    "        res = np.zeros((x.shape[0], x.shape[0]))\n",
    "        # res[0, 0] = 1   # 1-->1\n",
    "        # res[1, 0] = 1   # 1-->2\n",
    "        # res[0, 1] = 1   # 2-->1\n",
    "        res[2, 2] = 1   # 3-->3\n",
    "        return res\n",
    "    res = Df(x, t) - gamma * DH(x, t)\n",
    "    return res\n",
    "\n",
    "Lorenz = ContinuousDS(x0, f, jac, dt)\n",
    "# LCE = msf_LCE(Lorenz, T_init, T_cal, keep=False)\n",
    "LCE = msf_mLCE(Lorenz, T_init, T_cal, keep=False)"
   ]
  },
  {
   "cell_type": "code",
   "execution_count": 4,
   "metadata": {},
   "outputs": [
    {
     "name": "stdout",
     "output_type": "stream",
     "text": [
      "-0.003004144595347255\n"
     ]
    }
   ],
   "source": [
    "print(LCE)"
   ]
  },
  {
   "cell_type": "code",
   "execution_count": 5,
   "metadata": {},
   "outputs": [
    {
     "name": "stdout",
     "output_type": "stream",
     "text": [
      "-0.008379584987052234\n"
     ]
    }
   ],
   "source": [
    "gamma = 9.236\n",
    "\n",
    "def f(x, t):\n",
    "    res = np.zeros_like(x)\n",
    "    res[0] = sigma * (x[1] - x[0])\n",
    "    res[1] = x[0] * (rho - x[2]) - x[1]\n",
    "    res[2] = x[0] * x[1] - beta * x[2]\n",
    "    return res\n",
    "\n",
    "def jac(x, t):\n",
    "    def Df(x, t):\n",
    "        res = np.zeros((x.shape[0], x.shape[0]))\n",
    "        res[0, 0], res[0, 1] = -sigma, sigma\n",
    "        res[1, 0], res[1, 1], res[1, 2] = rho - x[2], -1., -x[0]\n",
    "        res[2, 0], res[2, 1], res[2, 2] = x[1], x[0], -beta\n",
    "        return res\n",
    "    def DH(x, t):\n",
    "        res = np.zeros((x.shape[0], x.shape[0]))\n",
    "        # res[0, 0] = 1   # 1-->1\n",
    "        # res[1, 0] = 1   # 1-->2\n",
    "        # res[0, 1] = 1   # 2-->1\n",
    "        res[2, 2] = 1   # 3-->3\n",
    "        return res\n",
    "    res = Df(x, t) - gamma * DH(x, t)\n",
    "    return res\n",
    "\n",
    "Lorenz = ContinuousDS(x0, f, jac, dt)\n",
    "# LCE = msf_LCE(Lorenz, T_init, T_cal, keep=False)\n",
    "LCE = msf_mLCE(Lorenz, T_init, T_cal, keep=False)\n",
    "print(LCE)"
   ]
  },
  {
   "cell_type": "code",
   "execution_count": 6,
   "metadata": {},
   "outputs": [
    {
     "name": "stdout",
     "output_type": "stream",
     "text": [
      "-0.016135452441408984\n"
     ]
    }
   ],
   "source": [
    "gamma = 49.681\n",
    "\n",
    "def f(x, t):\n",
    "    res = np.zeros_like(x)\n",
    "    res[0] = sigma * (x[1] - x[0])\n",
    "    res[1] = x[0] * (rho - x[2]) - x[1]\n",
    "    res[2] = x[0] * x[1] - beta * x[2]\n",
    "    return res\n",
    "\n",
    "def jac(x, t):\n",
    "    def Df(x, t):\n",
    "        res = np.zeros((x.shape[0], x.shape[0]))\n",
    "        res[0, 0], res[0, 1] = -sigma, sigma\n",
    "        res[1, 0], res[1, 1], res[1, 2] = rho - x[2], -1., -x[0]\n",
    "        res[2, 0], res[2, 1], res[2, 2] = x[1], x[0], -beta\n",
    "        return res\n",
    "    def DH(x, t):\n",
    "        res = np.zeros((x.shape[0], x.shape[0]))\n",
    "        # res[0, 0] = 1   # 1-->1\n",
    "        # res[1, 0] = 1   # 1-->2\n",
    "        # res[0, 1] = 1   # 2-->1\n",
    "        res[2, 2] = 1   # 3-->3\n",
    "        return res\n",
    "    res = Df(x, t) - gamma * DH(x, t)\n",
    "    return res\n",
    "\n",
    "Lorenz = ContinuousDS(x0, f, jac, dt)\n",
    "# LCE = msf_LCE(Lorenz, T_init, T_cal, keep=False)\n",
    "LCE = msf_mLCE(Lorenz, T_init, T_cal, keep=False)\n",
    "print(LCE)"
   ]
  },
  {
   "cell_type": "code",
   "execution_count": 7,
   "metadata": {},
   "outputs": [
    {
     "name": "stdout",
     "output_type": "stream",
     "text": [
      "0.5487003702737282\n"
     ]
    }
   ],
   "source": [
    "gamma = 20\n",
    "\n",
    "def f(x, t):\n",
    "    res = np.zeros_like(x)\n",
    "    res[0] = sigma * (x[1] - x[0])\n",
    "    res[1] = x[0] * (rho - x[2]) - x[1]\n",
    "    res[2] = x[0] * x[1] - beta * x[2]\n",
    "    return res\n",
    "\n",
    "def jac(x, t):\n",
    "    def Df(x, t):\n",
    "        res = np.zeros((x.shape[0], x.shape[0]))\n",
    "        res[0, 0], res[0, 1] = -sigma, sigma\n",
    "        res[1, 0], res[1, 1], res[1, 2] = rho - x[2], -1., -x[0]\n",
    "        res[2, 0], res[2, 1], res[2, 2] = x[1], x[0], -beta\n",
    "        return res\n",
    "    def DH(x, t):\n",
    "        res = np.zeros((x.shape[0], x.shape[0]))\n",
    "        # res[0, 0] = 1   # 1-->1\n",
    "        # res[1, 0] = 1   # 1-->2\n",
    "        # res[0, 1] = 1   # 2-->1\n",
    "        res[2, 2] = 1   # 3-->3\n",
    "        return res\n",
    "    res = Df(x, t) - gamma * DH(x, t)\n",
    "    return res\n",
    "\n",
    "Lorenz = ContinuousDS(x0, f, jac, dt)\n",
    "# LCE = msf_LCE(Lorenz, T_init, T_cal, keep=False)\n",
    "LCE = msf_mLCE(Lorenz, T_init, T_cal, keep=False)\n",
    "print(LCE)"
   ]
  },
  {
   "cell_type": "code",
   "execution_count": 8,
   "metadata": {},
   "outputs": [
    {
     "name": "stdout",
     "output_type": "stream",
     "text": [
      "-0.4895661059510635\n"
     ]
    }
   ],
   "source": [
    "gamma = 6\n",
    "\n",
    "def f(x, t):\n",
    "    res = np.zeros_like(x)\n",
    "    res[0] = sigma * (x[1] - x[0])\n",
    "    res[1] = x[0] * (rho - x[2]) - x[1]\n",
    "    res[2] = x[0] * x[1] - beta * x[2]\n",
    "    return res\n",
    "\n",
    "def jac(x, t):\n",
    "    def Df(x, t):\n",
    "        res = np.zeros((x.shape[0], x.shape[0]))\n",
    "        res[0, 0], res[0, 1] = -sigma, sigma\n",
    "        res[1, 0], res[1, 1], res[1, 2] = rho - x[2], -1., -x[0]\n",
    "        res[2, 0], res[2, 1], res[2, 2] = x[1], x[0], -beta\n",
    "        return res\n",
    "    def DH(x, t):\n",
    "        res = np.zeros((x.shape[0], x.shape[0]))\n",
    "        # res[0, 0] = 1   # 1-->1\n",
    "        # res[1, 0] = 1   # 1-->2\n",
    "        # res[0, 1] = 1   # 2-->1\n",
    "        res[2, 2] = 1   # 3-->3\n",
    "        return res\n",
    "    res = Df(x, t) - gamma * DH(x, t)\n",
    "    return res\n",
    "\n",
    "Lorenz = ContinuousDS(x0, f, jac, dt)\n",
    "# LCE = msf_LCE(Lorenz, T_init, T_cal, keep=False)\n",
    "LCE = msf_mLCE(Lorenz, T_init, T_cal, keep=False)\n",
    "print(LCE)"
   ]
  },
  {
   "cell_type": "code",
   "execution_count": 9,
   "metadata": {},
   "outputs": [
    {
     "name": "stdout",
     "output_type": "stream",
     "text": [
      "-0.1731144015697193\n"
     ]
    }
   ],
   "source": [
    "gamma = 67\n",
    "\n",
    "def f(x, t):\n",
    "    res = np.zeros_like(x)\n",
    "    res[0] = sigma * (x[1] - x[0])\n",
    "    res[1] = x[0] * (rho - x[2]) - x[1]\n",
    "    res[2] = x[0] * x[1] - beta * x[2]\n",
    "    return res\n",
    "\n",
    "def jac(x, t):\n",
    "    def Df(x, t):\n",
    "        res = np.zeros((x.shape[0], x.shape[0]))\n",
    "        res[0, 0], res[0, 1] = -sigma, sigma\n",
    "        res[1, 0], res[1, 1], res[1, 2] = rho - x[2], -1., -x[0]\n",
    "        res[2, 0], res[2, 1], res[2, 2] = x[1], x[0], -beta\n",
    "        return res\n",
    "    def DH(x, t):\n",
    "        res = np.zeros((x.shape[0], x.shape[0]))\n",
    "        # res[0, 0] = 1   # 1-->1\n",
    "        # res[1, 0] = 1   # 1-->2\n",
    "        # res[0, 1] = 1   # 2-->1\n",
    "        res[2, 2] = 1   # 3-->3\n",
    "        return res\n",
    "    res = Df(x, t) - gamma * DH(x, t)\n",
    "    return res\n",
    "\n",
    "Lorenz = ContinuousDS(x0, f, jac, dt)\n",
    "# LCE = msf_LCE(Lorenz, T_init, T_cal, keep=False)\n",
    "LCE = msf_mLCE(Lorenz, T_init, T_cal, keep=False)\n",
    "print(LCE)"
   ]
  },
  {
   "cell_type": "code",
   "execution_count": null,
   "metadata": {},
   "outputs": [],
   "source": []
  }
 ],
 "metadata": {
  "kernelspec": {
   "display_name": "Python 3",
   "language": "python",
   "name": "python3"
  },
  "language_info": {
   "codemirror_mode": {
    "name": "ipython",
    "version": 3
   },
   "file_extension": ".py",
   "mimetype": "text/x-python",
   "name": "python",
   "nbconvert_exporter": "python",
   "pygments_lexer": "ipython3",
   "version": "3.11.3"
  }
 },
 "nbformat": 4,
 "nbformat_minor": 2
}
