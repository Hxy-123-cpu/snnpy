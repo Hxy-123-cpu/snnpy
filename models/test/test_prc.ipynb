{
 "cells": [
  {
   "cell_type": "markdown",
   "metadata": {},
   "source": [
    "# 测试相位响应曲线\n",
    "\n",
    "`\\snnpy\\models\\utils\\PRC.py`"
   ]
  },
  {
   "cell_type": "code",
   "execution_count": null,
   "metadata": {},
   "outputs": [],
   "source": [
    "import os\n",
    "import sys\n",
    "sys.path.append(r\"../\")\n",
    "from utils.PRC import *\n",
    "from nodes.HH import HH\n",
    "import numpy as np\n",
    "import matplotlib.pyplot as plt"
   ]
  },
  {
   "cell_type": "markdown",
   "metadata": {},
   "source": [
    "## 测试 \"相位漂移\" 和 \"相位响应曲线\" 所使用的输入脉冲"
   ]
  },
  {
   "cell_type": "code",
   "execution_count": null,
   "metadata": {},
   "outputs": [],
   "source": [
    "dt = 0.01\n",
    "syn_test = syn_chem(2, dt=dt)\n",
    "# print(syn.tau_d_q)\n",
    "s_list = []\n",
    "s1_list = []\n",
    "\n",
    "n = 700\n",
    "t_list = np.arange(0, n*dt, 0.01)\n",
    "for i in range(n):\n",
    "    t = i * dt\n",
    "    syn_test(t, ts=[0.5, 1.])\n",
    "    s_list.append(syn_test.s[0])\n",
    "    s1_list.append(syn_test.s[1])\n",
    "\n",
    "fig, axs = plt.subplots(2, sharex=\"all\", layout='constrained')\n",
    "axs[0].plot(t_list, s_list)\n",
    "axs[1].plot(t_list, s1_list)\n",
    "plt.show()"
   ]
  },
  {
   "cell_type": "markdown",
   "metadata": {},
   "source": [
    "## 测试 \"相位漂移\""
   ]
  },
  {
   "cell_type": "code",
   "execution_count": null,
   "metadata": {},
   "outputs": [],
   "source": [
    "node = HH()\n",
    "# phi_shift = phase_shift(node, phase=[0.1, 0.2, 0.3, 0.4, 0.6])\n",
    "phi_shift = phase_shift(node, phase=[0.4, 0.6])\n",
    "phi_shift.g_syn = 0.2"
   ]
  },
  {
   "cell_type": "code",
   "execution_count": null,
   "metadata": {},
   "outputs": [],
   "source": [
    "# phi_shift.nodes.mem\n",
    "# phi_shift.nodes.num\n",
    "# phi_shift.num\n",
    "# phi_shift.nodes.retuen_vars()\n",
    "# phi_shift.nodes.t\n",
    "print(phi_shift.T_spike_list)\n",
    "# phi_shift.ts_list\n",
    "# plt.plot(phi_shift.mem_no_in)"
   ]
  },
  {
   "cell_type": "code",
   "execution_count": null,
   "metadata": {},
   "outputs": [],
   "source": [
    "phi_shift()"
   ]
  },
  {
   "cell_type": "code",
   "execution_count": null,
   "metadata": {},
   "outputs": [],
   "source": [
    "print(phi_shift.T_spike_act_list)"
   ]
  },
  {
   "cell_type": "code",
   "execution_count": null,
   "metadata": {},
   "outputs": [],
   "source": [
    "plt.plot(phi_shift.mem_in[:, :])\n",
    "# plt.plot(phi_shift.mem_in[:, 1])\n",
    "plt.plot(phi_shift.mem_no_in, color=\"r\")\n",
    "plt.xlim(5000, 9000)\n",
    "# phi_shift.mem_in"
   ]
  },
  {
   "cell_type": "code",
   "execution_count": null,
   "metadata": {},
   "outputs": [],
   "source": [
    "plt.plot(phi_shift.I_in)\n",
    "plt.xlim(5000, 9000)"
   ]
  },
  {
   "cell_type": "code",
   "execution_count": null,
   "metadata": {},
   "outputs": [],
   "source": [
    "phi_shift.plot_phase_shift()"
   ]
  },
  {
   "cell_type": "code",
   "execution_count": null,
   "metadata": {},
   "outputs": [],
   "source": [
    "from nodes.RTM_HH import RTM_HH\n",
    "node = RTM_HH()\n",
    "node.Iex = 0.3\n",
    "# phi_shift = phase_shift(node, phase=[0.1, 0.2, 0.3, 0.4, 0.6])\n",
    "phi_shift = phase_shift(node, phase=[0.1, 0.6])\n",
    "phi_shift.g_syn = 0.1\n",
    "phi_shift()\n",
    "phi_shift.plot_phase_shift()"
   ]
  },
  {
   "cell_type": "code",
   "execution_count": 1,
   "metadata": {},
   "outputs": [],
   "source": [
    "import os\n",
    "import sys\n",
    "sys.path.append(r\"../\")\n",
    "from utils.PRC import *\n",
    "from nodes.HH import HH\n",
    "import numpy as np\n",
    "import matplotlib.pyplot as plt"
   ]
  },
  {
   "cell_type": "code",
   "execution_count": 2,
   "metadata": {},
   "outputs": [],
   "source": [
    "node = HH()\n",
    "# phi_shift = phase_shift(node, phase=[0.1, 0.2, 0.3, 0.4, 0.6])\n",
    "PRCer = Phase_Response_Curves(node)\n",
    "PRCer.g_syn = 0.2\n",
    "PRCer()"
   ]
  },
  {
   "cell_type": "code",
   "execution_count": 3,
   "metadata": {},
   "outputs": [],
   "source": [
    "# PRCer.T_spike_list\n",
    "# PRCer.ts_list\n",
    "# PRCer.in_phase\n",
    "# PRCer.T_spike_act_list"
   ]
  },
  {
   "cell_type": "code",
   "execution_count": 4,
   "metadata": {},
   "outputs": [],
   "source": [
    "prc = PRCer.return_PRC()"
   ]
  },
  {
   "cell_type": "code",
   "execution_count": 5,
   "metadata": {},
   "outputs": [
    {
     "data": {
      "image/png": "[encoded data removed]",
      "text/plain": [
       "<Figure size 640x480 with 1 Axes>"
      ]
     },
     "metadata": {},
     "output_type": "display_data"
    }
   ],
   "source": [
    "# plt.plot(prc)\n",
    "PRCer.plot_PRC()"
   ]
  },
  {
   "cell_type": "code",
   "execution_count": null,
   "metadata": {},
   "outputs": [],
   "source": [
    "from nodes.RTM_HH import RTM_HH\n",
    "node = RTM_HH()\n",
    "node.Iex = 0.3\n",
    "PRCer = Phase_Response_Curves(node)\n",
    "PRCer.g_syn = 0.1\n",
    "PRCer()\n",
    "prc = PRCer.return_PRC()\n",
    "PRCer.plot_PRC()"
   ]
  }
 ],
 "metadata": {
  "kernelspec": {
   "display_name": "Python 3",
   "language": "python",
   "name": "python3"
  },
  "language_info": {
   "codemirror_mode": {
    "name": "ipython",
    "version": 3
   },
   "file_extension": ".py",
   "mimetype": "text/x-python",
   "name": "python",
   "nbconvert_exporter": "python",
   "pygments_lexer": "ipython3",
   "version": "3.11.3"
  }
 },
 "nbformat": 4,
 "nbformat_minor": 2
}
