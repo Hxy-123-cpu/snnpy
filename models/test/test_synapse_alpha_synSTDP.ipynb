{
 "cells": [
  {
   "cell_type": "code",
   "execution_count": 1,
   "metadata": {},
   "outputs": [],
   "source": [
    "import os\n",
    "import sys\n",
    "sys.path.append(r\"../\")\n",
    "import numpy as np\n",
    "import matplotlib.pyplot as plt\n",
    "# from nodes.HR import HR\n",
    "from nodes.HH import HH\n",
    "from connect.ws_small_world import create_sw\n",
    "from synapse.synapse_alpha import synbase_alpha as synbase\n",
    "from synapse.synapse_alpha import synSTDP\n",
    "from utils.statis import cal_cv, cal_synFactor, cal_kop, cal_information\n",
    "from utils.utils import spikevent\n",
    "from utils.utils_plot import plot_firing_raster"
   ]
  },
  {
   "cell_type": "code",
   "execution_count": 2,
   "metadata": {},
   "outputs": [],
   "source": [
    "seed = 0\n",
    "np.random.seed(seed)                # 给numpy设置随机种子"
   ]
  },
  {
   "cell_type": "code",
   "execution_count": 3,
   "metadata": {},
   "outputs": [],
   "source": [
    "N = 1\n",
    "dt = 0.01\n",
    "method = \"euler\"\n",
    "# conn = create_sw(N, 2, 0.5)\n",
    "conn = np.ones((1,1), dtype=int)"
   ]
  },
  {
   "cell_type": "code",
   "execution_count": 4,
   "metadata": {},
   "outputs": [],
   "source": [
    "delta_t_list = np.arange(-60, 60, 10)\n",
    "Ipre_t = np.arange(100, 1000, 200, dtype=int)*100\n",
    "w_end = []"
   ]
  },
  {
   "cell_type": "code",
   "execution_count": 5,
   "metadata": {},
   "outputs": [],
   "source": [
    "for delta_t in delta_t_list:\n",
    "    delta_t = int(delta_t*100)\n",
    "    pre = HH(N=N, method=method, dt=dt)\n",
    "    post = HH(N=N, method=method, dt=dt)\n",
    "    pre.Iex = 0\n",
    "    post.Iex = 0\n",
    "    syn = synSTDP(pre, post, conn=conn)\n",
    "    syn.lr = 1e-2\n",
    "    w_init = syn.w.copy()\n",
    "\n",
    "    # 初始化神经元\n",
    "    for i in range(10000):\n",
    "        pre()\n",
    "        post()\n",
    "\n",
    "    Ipost_t = Ipre_t+delta_t\n",
    "\n",
    "    for i in range(150000):\n",
    "        pre.Iex = 0\n",
    "        post.Iex = 0\n",
    "        if i in Ipre_t:\n",
    "            pre.Iex = 1000\n",
    "        if i in Ipost_t:\n",
    "            post.Iex = 1000\n",
    "        Isyn = syn()\n",
    "        pre()\n",
    "        post()\n",
    "\n",
    "    w_end.append(syn.w[0,0])\n"
   ]
  },
  {
   "cell_type": "code",
   "execution_count": null,
   "metadata": {},
   "outputs": [],
   "source": [
    "plt.plot(delta_t_list, w_end)"
   ]
  },
  {
   "cell_type": "code",
   "execution_count": null,
   "metadata": {},
   "outputs": [],
   "source": [
    "N = 10\n",
    "dt = 0.01\n",
    "Tn = 100000\n",
    "pre = HH(N=N)\n",
    "post = pre\n",
    "pre.Iex = 10\n",
    "# post = HH(N=N)\n",
    "conn = create_sw(N, 2, 0.5)\n",
    "syn = synSTDP(pre, post, conn=conn)  # [\"electr\", \"chem_Alpha\"]\n",
    "# syn = synbase(pre, post, conn=conn, synType=\"chem_Alpha\")\n",
    "# syn.w = .001\n",
    "syn.lr = 0.01\n",
    "# 初始化神经元\n",
    "for i in range(10000):\n",
    "    post()\n",
    "\n",
    "# 初始化网络\n",
    "for i in range(10000):\n",
    "    Isyn = syn()\n",
    "    post(Isyn)\n",
    "    # syn()\n",
    "\n",
    "time = []\n",
    "mem = []\n",
    "for i in range(Tn):\n",
    "    # 使用泊松过程测试CV\n",
    "    # pre.Iex=0 \n",
    "    # pre.Iex=(np.random.rand(N)<0.1).astype(float)*100\n",
    "    Isyn = syn()\n",
    "    post(Isyn)\n",
    "    # syn()\n",
    "    time.append(syn.t)\n",
    "    mem.append(syn.post.mem.copy())\n"
   ]
  },
  {
   "cell_type": "code",
   "execution_count": null,
   "metadata": {},
   "outputs": [],
   "source": [
    "plt.plot(time[0:10000], mem[0:10000])\n",
    "plt.show()"
   ]
  },
  {
   "cell_type": "code",
   "execution_count": null,
   "metadata": {},
   "outputs": [],
   "source": [
    "np.where(syn.w>.5)\n",
    "syn.w*syn.conn"
   ]
  },
  {
   "cell_type": "code",
   "execution_count": null,
   "metadata": {},
   "outputs": [],
   "source": [
    "syn.conn"
   ]
  }
 ],
 "metadata": {
  "kernelspec": {
   "display_name": "Python 3",
   "language": "python",
   "name": "python3"
  },
  "language_info": {
   "codemirror_mode": {
    "name": "ipython",
    "version": 3
   },
   "file_extension": ".py",
   "mimetype": "text/x-python",
   "name": "python",
   "nbconvert_exporter": "python",
   "pygments_lexer": "ipython3",
   "version": "3.11.3"
  }
 },
 "nbformat": 4,
 "nbformat_minor": 2
}
